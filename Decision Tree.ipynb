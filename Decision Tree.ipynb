{
 "cells": [
  {
   "cell_type": "code",
   "execution_count": null,
   "id": "spiritual-curve",
   "metadata": {},
   "outputs": [],
   "source": [
    "\"\"\"\n",
    "\n",
    "결정 트리  Decision Tree\n",
    "\n",
    "결정 트리는 예/아니오로 답할 수 있는 어떤 질문들이 있고,\n",
    "그 질문들의 답을 따라가면서 데이터를 분류하는 알고리즘이다.\n",
    "\n",
    "이 경우 결정트리는 root node의 질문으로부터 출발하여, leaf node 즉 답에서 끝나게 된다.\n",
    "\n",
    "\"\"\""
   ]
  },
  {
   "cell_type": "code",
   "execution_count": 16,
   "id": "dedicated-figure",
   "metadata": {
    "scrolled": true
   },
   "outputs": [
    {
     "name": "stdout",
     "output_type": "stream",
     "text": [
      "1\n",
      "0\n",
      "0\n",
      "1\n",
      "0\n",
      "0\n",
      "0\n"
     ]
    }
   ],
   "source": [
    "# if-else 문으로 결정 트리 구현\n",
    "\n",
    "# 교툥사고 생존 여부를 예측하는 결정 트리 함수(0: 생존, 1: 사망)\n",
    "def survival_classifier(seat_belt, highway, speed, age):\n",
    "    if not seat_belt:        \n",
    "        if highway:\n",
    "            if speed > 100:\n",
    "                if age > 50:\n",
    "                    return 1\n",
    "    \n",
    "    return 0\n",
    "    \n",
    "# test code\n",
    "print(survival_classifier(False, True, 110, 55))\n",
    "print(survival_classifier(True, False, 40, 70))\n",
    "print(survival_classifier(False, True, 80, 25))\n",
    "print(survival_classifier(False, True, 120, 60))\n",
    "print(survival_classifier(True, False, 30, 20))\n",
    "print(survival_classifier(False, True, 110, 20))\n",
    "print(survival_classifier(True, True, 150, 80))\n"
   ]
  },
  {
   "cell_type": "code",
   "execution_count": null,
   "id": "ordered-auckland",
   "metadata": {},
   "outputs": [],
   "source": [
    "\"\"\"\n",
    "\n",
    "지니 불순도 Gini Impurity\n",
    "\n",
    "머신 러닝 프로그램이 결정 트리를 만들 때에는 경험을 통해 내용을 직접 정해나가야 한다.\n",
    "즉 데이터를 분류하며 각 위치에서 어떤 노드가 제일 고르는 것이다.\n",
    "\n",
    "비교하자면,\n",
    "선형 회귀 알고리즘의 목적이 학습 데이터를 가장 잘 나타낼 수 있는 일차식을 찾는 것이었다면,\n",
    "결정 트리는 학습 데이터들을 가장 잘 분류할 수 있는 노드드를 찾아내는 것이다.\n",
    "\n",
    "손실 함수 같은 개념이 필요한 것인데, 결정 트리에서는 gini impurity를 사용한다.\n",
    "\n",
    "지니 불순도는 data set 안에 얼마나 다른 데이터들이 섞여있는지를 측정한다.\n",
    "모든 data가 한 분류라면 100% 순수한 data set일 겻이며, 반반 섞여있을 경우 100% 불순한 data set일 것이다\n",
    "\n",
    "GI = 1 - p(flu)^2 - p(not_flu)^\n",
    "\n",
    "데이터 100개 [독감: 70개, 일반감기: 30개] 예시)\n",
    "GI = 1 - 70/100^2 - 30/100^2 = 0.42\n",
    "\n",
    "데이터 100개 [독감: 100개, 일반감기: 0개] 예시)\n",
    "GI = 1 - 100/100^2 - 0/100^2 = 0\n",
    "\n",
    "데이터 100개 [독감: 50개, 일반감기: 50개] 예시)\n",
    "GI = 1 - 50/100^2 - 50/100^2 = 0.5\n",
    "\n",
    "즉 값이 작을 수록 순수하고, 클 수록 불순한 data set이다.\n",
    "\n",
    "지니 불순도가 어떻게 결정 트리의 노드를 정할 수 있는 것일까?\n",
    "\n",
    "\"\"\""
   ]
  },
  {
   "cell_type": "code",
   "execution_count": 24,
   "id": "declared-craps",
   "metadata": {
    "scrolled": true
   },
   "outputs": [
    {
     "name": "stdout",
     "output_type": "stream",
     "text": [
      "0.408\n",
      "0.497\n",
      "0.219\n"
     ]
    }
   ],
   "source": [
    "# 지니 불순도 계산 실습\n",
    "\n",
    "# 01\n",
    "print(round((1 - (150/210) ** 2 - (60/210) ** 2),3))  # 소수점 넷 째 자리에서 반올림\n",
    "\n",
    "# 02\n",
    "print(round((1 - (600/1300) ** 2 - (700/1300) ** 2),3))\n",
    "\n",
    "# 03\n",
    "print(round((1 - (350/400) ** 2 - (50/400) ** 2),3))"
   ]
  },
  {
   "cell_type": "code",
   "execution_count": 25,
   "id": "beginning-vegetarian",
   "metadata": {},
   "outputs": [
    {
     "data": {
      "text/plain": [
       "''"
      ]
     },
     "execution_count": 25,
     "metadata": {},
     "output_type": "execute_result"
    }
   ],
   "source": [
    "\"\"\"\n",
    "\n",
    "결정 트리에서 좋은 질문은 데이터를 잘 나누는 질문이다.\n",
    "즉 나뉜 데이터가 순수할 수록, 지니 불순도가 낮을 수록 좋은 질문이다.\n",
    "따라서 지니 불순도를 사용하여 질문 노드를 평가할 수 있다.\n",
    "\n",
    "left node 와 right node의 비교 예시)\n",
    "(GI(left) * data갯수) + (GI(right) * data갯수) = gini impurity 평균\n",
    "     \n",
    "\n",
    "\"\"\""
   ]
  },
  {
   "cell_type": "code",
   "execution_count": null,
   "id": "brave-dryer",
   "metadata": {},
   "outputs": [],
   "source": [
    "\"\"\"\n",
    "\n",
    "1. 각 분류/질문 노드의 지니 불순도를 구한다.\n",
    "2. 지니 불순도가 가장 낮은 노드 선택(root node로 이용) : '몸살 기운이 있나요?' 질문\n",
    "  a. 선택한 질문으로 바로 분류를 한다.(독감/일반감기)\n",
    "  b. 선택한 질문 아래 하위 질문 노드를 추가하여 지니 불순도를 추가로 낮춘다. : '고열이 있나요?' 질문 추가\n",
    "\n",
    "\"\"\""
   ]
  },
  {
   "cell_type": "code",
   "execution_count": 40,
   "id": "anticipated-organ",
   "metadata": {},
   "outputs": [
    {
     "name": "stdout",
     "output_type": "stream",
     "text": [
      "0.32\n",
      "0.272\n",
      "0.137\n"
     ]
    }
   ],
   "source": [
    "# 질문 노드 평가 계산 실습\n",
    "\n",
    "# 01\n",
    "print(round((((1 - (10/50) ** 2 - (40/50) ** 2) * 50) + ((1 - (60/75) ** 2 - (15/75) ** 2)* 75)) / (50 + 75), 3))\n",
    "\n",
    "# 02\n",
    "print(round((((1 - (40/45) ** 2 - (5/45) ** 2) * 45) + ((1 - (10/45) ** 2 - (35/45) ** 2)* 45)) / (45 + 45), 3))\n",
    "\n",
    "# 03 : 가장 좋은 질문\n",
    "print(round((((1 - (15/95) ** 2 - (80/95) ** 2) * 95) + ((1 - (90/90) ** 2 - (0/90) ** 2)* 90)) / (95 + 90), 3))"
   ]
  },
  {
   "cell_type": "code",
   "execution_count": null,
   "id": "correct-drill",
   "metadata": {},
   "outputs": [],
   "source": [
    "\"\"\"\n",
    "\n",
    "모든 노드 만들기\n",
    "\n",
    "학습 데이터를 가장 순수하게 만들어 주는(=지니 불순도가 가장 낮은) 분류 노드 or 질문 노드를 고르며 결정트리를 만들어 나간다.\n",
    "\n",
    "트리의 깊이를 미리 정해줄 수도 있다. 이 경우 더이상 질문 노드를 추가하지 않고 분류 노드를 만들면 된다.\n",
    "\n",
    "\n",
    "\"\"\""
   ]
  },
  {
   "cell_type": "code",
   "execution_count": null,
   "id": "colonial-lithuania",
   "metadata": {},
   "outputs": [],
   "source": [
    "# 속성이 숫자일 때의 질문 노드?\n",
    "\n",
    "\"\"\"\n",
    "\n",
    "위의 모든 내용들은 속성이 불린형 데이터였다. \n",
    "고열이 있는가? (Y/N)를\n",
    "열이 몇 도인가? ___ 로 표현할 수 있는 것이다.\n",
    "\n",
    "\n",
    "\n",
    "\n",
    "\"\"\""
   ]
  }
 ],
 "metadata": {
  "kernelspec": {
   "display_name": "Python 3",
   "language": "python",
   "name": "python3"
  },
  "language_info": {
   "codemirror_mode": {
    "name": "ipython",
    "version": 3
   },
   "file_extension": ".py",
   "mimetype": "text/x-python",
   "name": "python",
   "nbconvert_exporter": "python",
   "pygments_lexer": "ipython3",
   "version": "3.8.5"
  }
 },
 "nbformat": 4,
 "nbformat_minor": 5
}
